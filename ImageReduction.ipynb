{
 "cells": [
  {
   "cell_type": "code",
   "execution_count": 1,
   "id": "f1bd3ece",
   "metadata": {},
   "outputs": [],
   "source": [
    "import numpy as np\n",
    "import glob\n",
    "import cv2\n",
    "\n"
   ]
  },
  {
   "cell_type": "code",
   "execution_count": 2,
   "id": "ba0346ae",
   "metadata": {},
   "outputs": [
    {
     "data": {
      "text/plain": [
       "['./dataset/Dog\\\\0.jpg', './dataset/Dog\\\\1.jpg']"
      ]
     },
     "execution_count": 2,
     "metadata": {},
     "output_type": "execute_result"
    }
   ],
   "source": [
    "img_list = [f for f in glob.glob(\"./dataset/Dog/*.jpg\" )]\n",
    "img_list[:2]"
   ]
  },
  {
   "cell_type": "code",
   "execution_count": 5,
   "id": "d26c5f48",
   "metadata": {
    "scrolled": true
   },
   "outputs": [],
   "source": [
    "for imagefile in img_list[:3]:\n",
    "    \n",
    "    img_color = cv2.imread(imagefile)\n",
    "    \n",
    "    filename = f'{imagefile}_grayscale.jpeg'\n",
    "    \n",
    "    \n",
    "    img = cv2.cvtColor (img_color, cv2.COLOR_BGR2GRAY)\n",
    "    suave = cv2.GaussianBlur (img, (7, 7), 0) # aplica blur\n",
    "    (T, bin) = cv2.threshold(suave, 160, 255, cv2.THRESH_BINARY)\n",
    "    (T, binI) = cv2.threshold(suave, 160, 255,\n",
    "    cv2.THRESH_BINARY_INV)\n",
    "    resultado = np.vstack([\n",
    "    np.hstack ([suave, bin]),\n",
    "    np.hstack([binI, cv2.bitwise_and(img, img, mask = binI)])\n",
    "    ])\n",
    "     \n",
    "   \n",
    "\n",
    "    cv2.imshow(\"visualizar\", resultado)\n",
    "    cv2.imwrite(f\"./dataset/dogs_gray/{filename}\" , resultado) \n",
    "    cv2.waitKey(2)\n",
    "    cv2.destroyAllWindows()"
   ]
  },
  {
   "cell_type": "code",
   "execution_count": null,
   "id": "ae9420ee",
   "metadata": {},
   "outputs": [],
   "source": []
  },
  {
   "cell_type": "code",
   "execution_count": null,
   "id": "29747db1",
   "metadata": {},
   "outputs": [],
   "source": []
  }
 ],
 "metadata": {
  "kernelspec": {
   "display_name": "Python 3 (ipykernel)",
   "language": "python",
   "name": "python3"
  },
  "language_info": {
   "codemirror_mode": {
    "name": "ipython",
    "version": 3
   },
   "file_extension": ".py",
   "mimetype": "text/x-python",
   "name": "python",
   "nbconvert_exporter": "python",
   "pygments_lexer": "ipython3",
   "version": "3.9.7"
  }
 },
 "nbformat": 4,
 "nbformat_minor": 5
}
